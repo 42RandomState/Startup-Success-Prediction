{
 "cells": [
  {
   "cell_type": "markdown",
   "id": "cd7025e6",
   "metadata": {
    "papermill": {
     "duration": 0.004352,
     "end_time": "2025-04-25T17:45:49.407943",
     "exception": false,
     "start_time": "2025-04-25T17:45:49.403591",
     "status": "completed"
    },
    "tags": []
   },
   "source": [
    "# **STARTUP PREDICTION, PERFECT SCORE**"
   ]
  },
  {
   "cell_type": "markdown",
   "id": "2c9df5fd",
   "metadata": {
    "papermill": {
     "duration": 0.003249,
     "end_time": "2025-04-25T17:45:49.414994",
     "exception": false,
     "start_time": "2025-04-25T17:45:49.411745",
     "status": "completed"
    },
    "tags": []
   },
   "source": [
    "## **Powered by 42RandomState**"
   ]
  },
  {
   "cell_type": "markdown",
   "id": "842cfe4e",
   "metadata": {
    "papermill": {
     "duration": 0.003134,
     "end_time": "2025-04-25T17:45:49.421657",
     "exception": false,
     "start_time": "2025-04-25T17:45:49.418523",
     "status": "completed"
    },
    "tags": []
   },
   "source": [
    "In this project, I worked on the Startup Success Prediction dataset, aiming to predict whether a startup will succeed based on several features. I preprocessed and analyse all the data, handled skewed, numerical and categorical features, and applied machine learning models such as Random Forest. After optimizing the model, I achieved outstanding performance with an almost perfect F1 score and perfect AUC on the test set, demonstrating that the model was able to effectively predict startup success. "
   ]
  },
  {
   "cell_type": "markdown",
   "id": "2444ff07",
   "metadata": {
    "papermill": {
     "duration": 0.003126,
     "end_time": "2025-04-25T17:45:49.428171",
     "exception": false,
     "start_time": "2025-04-25T17:45:49.425045",
     "status": "completed"
    },
    "tags": []
   },
   "source": [
    "## **1) Analyze and work on data**"
   ]
  },
  {
   "cell_type": "code",
   "execution_count": 1,
   "id": "407c9a04",
   "metadata": {
    "execution": {
     "iopub.execute_input": "2025-04-25T17:45:49.436567Z",
     "iopub.status.busy": "2025-04-25T17:45:49.436235Z",
     "iopub.status.idle": "2025-04-25T17:46:09.068163Z",
     "shell.execute_reply": "2025-04-25T17:46:09.067240Z"
    },
    "papermill": {
     "duration": 19.638633,
     "end_time": "2025-04-25T17:46:09.070285",
     "exception": false,
     "start_time": "2025-04-25T17:45:49.431652",
     "status": "completed"
    },
    "tags": []
   },
   "outputs": [
    {
     "name": "stderr",
     "output_type": "stream",
     "text": [
      "2025-04-25 17:45:53.583425: E external/local_xla/xla/stream_executor/cuda/cuda_fft.cc:477] Unable to register cuFFT factory: Attempting to register factory for plugin cuFFT when one has already been registered\n",
      "WARNING: All log messages before absl::InitializeLog() is called are written to STDERR\n",
      "E0000 00:00:1745603153.861956      13 cuda_dnn.cc:8310] Unable to register cuDNN factory: Attempting to register factory for plugin cuDNN when one has already been registered\n",
      "E0000 00:00:1745603153.948566      13 cuda_blas.cc:1418] Unable to register cuBLAS factory: Attempting to register factory for plugin cuBLAS when one has already been registered\n"
     ]
    }
   ],
   "source": [
    "import numpy as np\n",
    "import pandas as pd\n",
    "import tensorflow as tf\n",
    "import warnings\n",
    "warnings.filterwarnings('ignore')\n",
    "\n",
    "data = pd.read_csv('/kaggle/input/startup-success-prediction/startup data.csv')\n",
    "data = data.drop(columns=[\"Unnamed: 0\", \"Unnamed: 6\"])"
   ]
  },
  {
   "cell_type": "code",
   "execution_count": 2,
   "id": "bb237413",
   "metadata": {
    "execution": {
     "iopub.execute_input": "2025-04-25T17:46:09.079654Z",
     "iopub.status.busy": "2025-04-25T17:46:09.079317Z",
     "iopub.status.idle": "2025-04-25T17:46:10.347588Z",
     "shell.execute_reply": "2025-04-25T17:46:10.346637Z"
    },
    "papermill": {
     "duration": 1.274921,
     "end_time": "2025-04-25T17:46:10.349349",
     "exception": false,
     "start_time": "2025-04-25T17:46:09.074428",
     "status": "completed"
    },
    "tags": []
   },
   "outputs": [],
   "source": [
    "from sklearn.model_selection import train_test_split\n",
    "\n",
    "train_set, temp_set = train_test_split(data, test_size=0.4, stratify=data['labels'], random_state=42)\n",
    "val_set, test_set = train_test_split(temp_set, test_size=0.5, stratify=temp_set['labels'], random_state=42)\n",
    "\n",
    "X_train = train_set.drop(columns=[\"labels\"], axis = 1)\n",
    "y_train = train_set[\"labels\"].copy()\n",
    "\n",
    "X_test = test_set.drop(columns=[\"labels\"], axis = 1)\n",
    "y_test = test_set[\"labels\"].copy()\n",
    "\n",
    "X_val = val_set.drop(columns=[\"labels\"], axis = 1)\n",
    "y_val = val_set[\"labels\"].copy()"
   ]
  },
  {
   "cell_type": "code",
   "execution_count": 3,
   "id": "8c120080",
   "metadata": {
    "execution": {
     "iopub.execute_input": "2025-04-25T17:46:10.358413Z",
     "iopub.status.busy": "2025-04-25T17:46:10.357840Z",
     "iopub.status.idle": "2025-04-25T17:46:10.367989Z",
     "shell.execute_reply": "2025-04-25T17:46:10.366920Z"
    },
    "papermill": {
     "duration": 0.016159,
     "end_time": "2025-04-25T17:46:10.369350",
     "exception": false,
     "start_time": "2025-04-25T17:46:10.353191",
     "status": "completed"
    },
    "tags": []
   },
   "outputs": [
    {
     "name": "stdout",
     "output_type": "stream",
     "text": [
      "labels\n",
      "1    597\n",
      "0    326\n",
      "Name: count, dtype: int64\n"
     ]
    }
   ],
   "source": [
    "print(data['labels'].value_counts())"
   ]
  },
  {
   "cell_type": "code",
   "execution_count": 4,
   "id": "abe0cbb7",
   "metadata": {
    "execution": {
     "iopub.execute_input": "2025-04-25T17:46:10.378263Z",
     "iopub.status.busy": "2025-04-25T17:46:10.377946Z",
     "iopub.status.idle": "2025-04-25T17:46:10.408824Z",
     "shell.execute_reply": "2025-04-25T17:46:10.407955Z"
    },
    "papermill": {
     "duration": 0.037085,
     "end_time": "2025-04-25T17:46:10.410232",
     "exception": false,
     "start_time": "2025-04-25T17:46:10.373147",
     "status": "completed"
    },
    "tags": []
   },
   "outputs": [
    {
     "data": {
      "text/html": [
       "<div>\n",
       "<style scoped>\n",
       "    .dataframe tbody tr th:only-of-type {\n",
       "        vertical-align: middle;\n",
       "    }\n",
       "\n",
       "    .dataframe tbody tr th {\n",
       "        vertical-align: top;\n",
       "    }\n",
       "\n",
       "    .dataframe thead th {\n",
       "        text-align: right;\n",
       "    }\n",
       "</style>\n",
       "<table border=\"1\" class=\"dataframe\">\n",
       "  <thead>\n",
       "    <tr style=\"text-align: right;\">\n",
       "      <th></th>\n",
       "      <th>state_code</th>\n",
       "      <th>latitude</th>\n",
       "      <th>longitude</th>\n",
       "      <th>zip_code</th>\n",
       "      <th>id</th>\n",
       "      <th>city</th>\n",
       "      <th>name</th>\n",
       "      <th>labels</th>\n",
       "      <th>founded_at</th>\n",
       "      <th>closed_at</th>\n",
       "      <th>...</th>\n",
       "      <th>object_id</th>\n",
       "      <th>has_VC</th>\n",
       "      <th>has_angel</th>\n",
       "      <th>has_roundA</th>\n",
       "      <th>has_roundB</th>\n",
       "      <th>has_roundC</th>\n",
       "      <th>has_roundD</th>\n",
       "      <th>avg_participants</th>\n",
       "      <th>is_top500</th>\n",
       "      <th>status</th>\n",
       "    </tr>\n",
       "  </thead>\n",
       "  <tbody>\n",
       "    <tr>\n",
       "      <th>376</th>\n",
       "      <td>WA</td>\n",
       "      <td>47.639901</td>\n",
       "      <td>-122.191427</td>\n",
       "      <td>98104</td>\n",
       "      <td>c:1767</td>\n",
       "      <td>Seattle</td>\n",
       "      <td>Livemocha</td>\n",
       "      <td>1</td>\n",
       "      <td>9/1/2007</td>\n",
       "      <td>NaN</td>\n",
       "      <td>...</td>\n",
       "      <td>c:1767</td>\n",
       "      <td>1</td>\n",
       "      <td>0</td>\n",
       "      <td>1</td>\n",
       "      <td>1</td>\n",
       "      <td>1</td>\n",
       "      <td>0</td>\n",
       "      <td>1.5</td>\n",
       "      <td>1</td>\n",
       "      <td>acquired</td>\n",
       "    </tr>\n",
       "    <tr>\n",
       "      <th>698</th>\n",
       "      <td>NY</td>\n",
       "      <td>40.738567</td>\n",
       "      <td>-73.987199</td>\n",
       "      <td>10007</td>\n",
       "      <td>c:20313</td>\n",
       "      <td>New York</td>\n",
       "      <td>SpaBooker</td>\n",
       "      <td>1</td>\n",
       "      <td>11/1/2007</td>\n",
       "      <td>NaN</td>\n",
       "      <td>...</td>\n",
       "      <td>c:20313</td>\n",
       "      <td>0</td>\n",
       "      <td>1</td>\n",
       "      <td>1</td>\n",
       "      <td>0</td>\n",
       "      <td>0</td>\n",
       "      <td>0</td>\n",
       "      <td>4.0</td>\n",
       "      <td>1</td>\n",
       "      <td>acquired</td>\n",
       "    </tr>\n",
       "    <tr>\n",
       "      <th>295</th>\n",
       "      <td>WA</td>\n",
       "      <td>39.783730</td>\n",
       "      <td>-100.445882</td>\n",
       "      <td>98104</td>\n",
       "      <td>c:60243</td>\n",
       "      <td>Seattle</td>\n",
       "      <td>Kiha Software</td>\n",
       "      <td>0</td>\n",
       "      <td>1/1/2008</td>\n",
       "      <td>8/1/2011</td>\n",
       "      <td>...</td>\n",
       "      <td>c:60243</td>\n",
       "      <td>0</td>\n",
       "      <td>0</td>\n",
       "      <td>1</td>\n",
       "      <td>0</td>\n",
       "      <td>0</td>\n",
       "      <td>0</td>\n",
       "      <td>1.0</td>\n",
       "      <td>0</td>\n",
       "      <td>closed</td>\n",
       "    </tr>\n",
       "    <tr>\n",
       "      <th>552</th>\n",
       "      <td>CA</td>\n",
       "      <td>37.288326</td>\n",
       "      <td>-121.945633</td>\n",
       "      <td>95008-2069</td>\n",
       "      <td>c:44268</td>\n",
       "      <td>Campbell</td>\n",
       "      <td>Forrst</td>\n",
       "      <td>1</td>\n",
       "      <td>1/25/2010</td>\n",
       "      <td>NaN</td>\n",
       "      <td>...</td>\n",
       "      <td>c:44268</td>\n",
       "      <td>0</td>\n",
       "      <td>1</td>\n",
       "      <td>0</td>\n",
       "      <td>0</td>\n",
       "      <td>0</td>\n",
       "      <td>0</td>\n",
       "      <td>7.0</td>\n",
       "      <td>1</td>\n",
       "      <td>acquired</td>\n",
       "    </tr>\n",
       "    <tr>\n",
       "      <th>645</th>\n",
       "      <td>CA</td>\n",
       "      <td>37.316907</td>\n",
       "      <td>-122.049702</td>\n",
       "      <td>95014</td>\n",
       "      <td>c:28420</td>\n",
       "      <td>Cupertino</td>\n",
       "      <td>Blue Lane Technologies</td>\n",
       "      <td>1</td>\n",
       "      <td>1/1/2002</td>\n",
       "      <td>NaN</td>\n",
       "      <td>...</td>\n",
       "      <td>c:28420</td>\n",
       "      <td>0</td>\n",
       "      <td>0</td>\n",
       "      <td>0</td>\n",
       "      <td>1</td>\n",
       "      <td>0</td>\n",
       "      <td>0</td>\n",
       "      <td>2.0</td>\n",
       "      <td>1</td>\n",
       "      <td>acquired</td>\n",
       "    </tr>\n",
       "  </tbody>\n",
       "</table>\n",
       "<p>5 rows × 47 columns</p>\n",
       "</div>"
      ],
      "text/plain": [
       "    state_code   latitude   longitude    zip_code       id       city  \\\n",
       "376         WA  47.639901 -122.191427       98104   c:1767    Seattle   \n",
       "698         NY  40.738567  -73.987199       10007  c:20313   New York   \n",
       "295         WA  39.783730 -100.445882       98104  c:60243    Seattle   \n",
       "552         CA  37.288326 -121.945633  95008-2069  c:44268   Campbell   \n",
       "645         CA  37.316907 -122.049702       95014  c:28420  Cupertino   \n",
       "\n",
       "                       name  labels founded_at closed_at  ... object_id  \\\n",
       "376               Livemocha       1   9/1/2007       NaN  ...    c:1767   \n",
       "698               SpaBooker       1  11/1/2007       NaN  ...   c:20313   \n",
       "295           Kiha Software       0   1/1/2008  8/1/2011  ...   c:60243   \n",
       "552                  Forrst       1  1/25/2010       NaN  ...   c:44268   \n",
       "645  Blue Lane Technologies       1   1/1/2002       NaN  ...   c:28420   \n",
       "\n",
       "    has_VC  has_angel  has_roundA  has_roundB  has_roundC  has_roundD  \\\n",
       "376      1          0           1           1           1           0   \n",
       "698      0          1           1           0           0           0   \n",
       "295      0          0           1           0           0           0   \n",
       "552      0          1           0           0           0           0   \n",
       "645      0          0           0           1           0           0   \n",
       "\n",
       "     avg_participants  is_top500    status  \n",
       "376               1.5          1  acquired  \n",
       "698               4.0          1  acquired  \n",
       "295               1.0          0    closed  \n",
       "552               7.0          1  acquired  \n",
       "645               2.0          1  acquired  \n",
       "\n",
       "[5 rows x 47 columns]"
      ]
     },
     "execution_count": 4,
     "metadata": {},
     "output_type": "execute_result"
    }
   ],
   "source": [
    "train_set.head()"
   ]
  },
  {
   "cell_type": "code",
   "execution_count": 5,
   "id": "fa062e57",
   "metadata": {
    "execution": {
     "iopub.execute_input": "2025-04-25T17:46:10.420296Z",
     "iopub.status.busy": "2025-04-25T17:46:10.419980Z",
     "iopub.status.idle": "2025-04-25T17:46:10.440259Z",
     "shell.execute_reply": "2025-04-25T17:46:10.439033Z"
    },
    "papermill": {
     "duration": 0.026864,
     "end_time": "2025-04-25T17:46:10.441637",
     "exception": false,
     "start_time": "2025-04-25T17:46:10.414773",
     "status": "completed"
    },
    "tags": []
   },
   "outputs": [
    {
     "name": "stdout",
     "output_type": "stream",
     "text": [
      "<class 'pandas.core.frame.DataFrame'>\n",
      "Index: 553 entries, 376 to 511\n",
      "Data columns (total 47 columns):\n",
      " #   Column                    Non-Null Count  Dtype  \n",
      "---  ------                    --------------  -----  \n",
      " 0   state_code                553 non-null    object \n",
      " 1   latitude                  553 non-null    float64\n",
      " 2   longitude                 553 non-null    float64\n",
      " 3   zip_code                  553 non-null    object \n",
      " 4   id                        553 non-null    object \n",
      " 5   city                      553 non-null    object \n",
      " 6   name                      553 non-null    object \n",
      " 7   labels                    553 non-null    int64  \n",
      " 8   founded_at                553 non-null    object \n",
      " 9   closed_at                 200 non-null    object \n",
      " 10  first_funding_at          553 non-null    object \n",
      " 11  last_funding_at           553 non-null    object \n",
      " 12  age_first_funding_year    553 non-null    float64\n",
      " 13  age_last_funding_year     553 non-null    float64\n",
      " 14  age_first_milestone_year  464 non-null    float64\n",
      " 15  age_last_milestone_year   464 non-null    float64\n",
      " 16  relationships             553 non-null    int64  \n",
      " 17  funding_rounds            553 non-null    int64  \n",
      " 18  funding_total_usd         553 non-null    int64  \n",
      " 19  milestones                553 non-null    int64  \n",
      " 20  state_code.1              552 non-null    object \n",
      " 21  is_CA                     553 non-null    int64  \n",
      " 22  is_NY                     553 non-null    int64  \n",
      " 23  is_MA                     553 non-null    int64  \n",
      " 24  is_TX                     553 non-null    int64  \n",
      " 25  is_otherstate             553 non-null    int64  \n",
      " 26  category_code             553 non-null    object \n",
      " 27  is_software               553 non-null    int64  \n",
      " 28  is_web                    553 non-null    int64  \n",
      " 29  is_mobile                 553 non-null    int64  \n",
      " 30  is_enterprise             553 non-null    int64  \n",
      " 31  is_advertising            553 non-null    int64  \n",
      " 32  is_gamesvideo             553 non-null    int64  \n",
      " 33  is_ecommerce              553 non-null    int64  \n",
      " 34  is_biotech                553 non-null    int64  \n",
      " 35  is_consulting             553 non-null    int64  \n",
      " 36  is_othercategory          553 non-null    int64  \n",
      " 37  object_id                 553 non-null    object \n",
      " 38  has_VC                    553 non-null    int64  \n",
      " 39  has_angel                 553 non-null    int64  \n",
      " 40  has_roundA                553 non-null    int64  \n",
      " 41  has_roundB                553 non-null    int64  \n",
      " 42  has_roundC                553 non-null    int64  \n",
      " 43  has_roundD                553 non-null    int64  \n",
      " 44  avg_participants          553 non-null    float64\n",
      " 45  is_top500                 553 non-null    int64  \n",
      " 46  status                    553 non-null    object \n",
      "dtypes: float64(7), int64(27), object(13)\n",
      "memory usage: 207.4+ KB\n"
     ]
    }
   ],
   "source": [
    "train_set.info()"
   ]
  },
  {
   "cell_type": "code",
   "execution_count": 6,
   "id": "2a94ab32",
   "metadata": {
    "execution": {
     "iopub.execute_input": "2025-04-25T17:46:10.452072Z",
     "iopub.status.busy": "2025-04-25T17:46:10.451208Z",
     "iopub.status.idle": "2025-04-25T17:46:10.518345Z",
     "shell.execute_reply": "2025-04-25T17:46:10.517441Z"
    },
    "papermill": {
     "duration": 0.073892,
     "end_time": "2025-04-25T17:46:10.520039",
     "exception": false,
     "start_time": "2025-04-25T17:46:10.446147",
     "status": "completed"
    },
    "tags": []
   },
   "outputs": [
    {
     "data": {
      "text/html": [
       "<div>\n",
       "<style scoped>\n",
       "    .dataframe tbody tr th:only-of-type {\n",
       "        vertical-align: middle;\n",
       "    }\n",
       "\n",
       "    .dataframe tbody tr th {\n",
       "        vertical-align: top;\n",
       "    }\n",
       "\n",
       "    .dataframe thead th {\n",
       "        text-align: right;\n",
       "    }\n",
       "</style>\n",
       "<table border=\"1\" class=\"dataframe\">\n",
       "  <thead>\n",
       "    <tr style=\"text-align: right;\">\n",
       "      <th></th>\n",
       "      <th>latitude</th>\n",
       "      <th>longitude</th>\n",
       "      <th>labels</th>\n",
       "      <th>age_first_funding_year</th>\n",
       "      <th>age_last_funding_year</th>\n",
       "      <th>age_first_milestone_year</th>\n",
       "      <th>age_last_milestone_year</th>\n",
       "      <th>relationships</th>\n",
       "      <th>funding_rounds</th>\n",
       "      <th>funding_total_usd</th>\n",
       "      <th>...</th>\n",
       "      <th>is_consulting</th>\n",
       "      <th>is_othercategory</th>\n",
       "      <th>has_VC</th>\n",
       "      <th>has_angel</th>\n",
       "      <th>has_roundA</th>\n",
       "      <th>has_roundB</th>\n",
       "      <th>has_roundC</th>\n",
       "      <th>has_roundD</th>\n",
       "      <th>avg_participants</th>\n",
       "      <th>is_top500</th>\n",
       "    </tr>\n",
       "  </thead>\n",
       "  <tbody>\n",
       "    <tr>\n",
       "      <th>count</th>\n",
       "      <td>553.000000</td>\n",
       "      <td>553.000000</td>\n",
       "      <td>553.000000</td>\n",
       "      <td>553.000000</td>\n",
       "      <td>553.000000</td>\n",
       "      <td>464.000000</td>\n",
       "      <td>464.000000</td>\n",
       "      <td>553.000000</td>\n",
       "      <td>553.000000</td>\n",
       "      <td>5.530000e+02</td>\n",
       "      <td>...</td>\n",
       "      <td>553.000000</td>\n",
       "      <td>553.000000</td>\n",
       "      <td>553.000000</td>\n",
       "      <td>553.000000</td>\n",
       "      <td>553.000000</td>\n",
       "      <td>553.000000</td>\n",
       "      <td>553.000000</td>\n",
       "      <td>553.000000</td>\n",
       "      <td>553.000000</td>\n",
       "      <td>553.000000</td>\n",
       "    </tr>\n",
       "    <tr>\n",
       "      <th>mean</th>\n",
       "      <td>38.524450</td>\n",
       "      <td>-103.712659</td>\n",
       "      <td>0.647378</td>\n",
       "      <td>2.154983</td>\n",
       "      <td>3.938036</td>\n",
       "      <td>3.059642</td>\n",
       "      <td>4.918637</td>\n",
       "      <td>8.005425</td>\n",
       "      <td>2.339964</td>\n",
       "      <td>2.106776e+07</td>\n",
       "      <td>...</td>\n",
       "      <td>0.003617</td>\n",
       "      <td>0.307414</td>\n",
       "      <td>0.325497</td>\n",
       "      <td>0.251356</td>\n",
       "      <td>0.529837</td>\n",
       "      <td>0.424955</td>\n",
       "      <td>0.236890</td>\n",
       "      <td>0.084991</td>\n",
       "      <td>2.861091</td>\n",
       "      <td>0.804702</td>\n",
       "    </tr>\n",
       "    <tr>\n",
       "      <th>std</th>\n",
       "      <td>3.607388</td>\n",
       "      <td>22.742867</td>\n",
       "      <td>0.478219</td>\n",
       "      <td>2.463427</td>\n",
       "      <td>2.933488</td>\n",
       "      <td>3.135400</td>\n",
       "      <td>3.351682</td>\n",
       "      <td>7.543951</td>\n",
       "      <td>1.337913</td>\n",
       "      <td>3.623331e+07</td>\n",
       "      <td>...</td>\n",
       "      <td>0.060084</td>\n",
       "      <td>0.461840</td>\n",
       "      <td>0.468985</td>\n",
       "      <td>0.434186</td>\n",
       "      <td>0.499561</td>\n",
       "      <td>0.494784</td>\n",
       "      <td>0.425559</td>\n",
       "      <td>0.279121</td>\n",
       "      <td>1.930696</td>\n",
       "      <td>0.396789</td>\n",
       "    </tr>\n",
       "    <tr>\n",
       "      <th>min</th>\n",
       "      <td>26.052461</td>\n",
       "      <td>-122.725662</td>\n",
       "      <td>0.000000</td>\n",
       "      <td>-9.046600</td>\n",
       "      <td>-9.046600</td>\n",
       "      <td>-14.169900</td>\n",
       "      <td>-3.882200</td>\n",
       "      <td>0.000000</td>\n",
       "      <td>1.000000</td>\n",
       "      <td>1.100000e+04</td>\n",
       "      <td>...</td>\n",
       "      <td>0.000000</td>\n",
       "      <td>0.000000</td>\n",
       "      <td>0.000000</td>\n",
       "      <td>0.000000</td>\n",
       "      <td>0.000000</td>\n",
       "      <td>0.000000</td>\n",
       "      <td>0.000000</td>\n",
       "      <td>0.000000</td>\n",
       "      <td>1.000000</td>\n",
       "      <td>0.000000</td>\n",
       "    </tr>\n",
       "    <tr>\n",
       "      <th>25%</th>\n",
       "      <td>37.386778</td>\n",
       "      <td>-122.192337</td>\n",
       "      <td>0.000000</td>\n",
       "      <td>0.586300</td>\n",
       "      <td>1.882200</td>\n",
       "      <td>1.000000</td>\n",
       "      <td>2.502725</td>\n",
       "      <td>3.000000</td>\n",
       "      <td>1.000000</td>\n",
       "      <td>3.100000e+06</td>\n",
       "      <td>...</td>\n",
       "      <td>0.000000</td>\n",
       "      <td>0.000000</td>\n",
       "      <td>0.000000</td>\n",
       "      <td>0.000000</td>\n",
       "      <td>0.000000</td>\n",
       "      <td>0.000000</td>\n",
       "      <td>0.000000</td>\n",
       "      <td>0.000000</td>\n",
       "      <td>1.500000</td>\n",
       "      <td>1.000000</td>\n",
       "    </tr>\n",
       "    <tr>\n",
       "      <th>50%</th>\n",
       "      <td>37.777741</td>\n",
       "      <td>-118.487549</td>\n",
       "      <td>1.000000</td>\n",
       "      <td>1.441100</td>\n",
       "      <td>3.580800</td>\n",
       "      <td>2.510950</td>\n",
       "      <td>4.627400</td>\n",
       "      <td>6.000000</td>\n",
       "      <td>2.000000</td>\n",
       "      <td>1.050000e+07</td>\n",
       "      <td>...</td>\n",
       "      <td>0.000000</td>\n",
       "      <td>0.000000</td>\n",
       "      <td>0.000000</td>\n",
       "      <td>0.000000</td>\n",
       "      <td>1.000000</td>\n",
       "      <td>0.000000</td>\n",
       "      <td>0.000000</td>\n",
       "      <td>0.000000</td>\n",
       "      <td>2.333300</td>\n",
       "      <td>1.000000</td>\n",
       "    </tr>\n",
       "    <tr>\n",
       "      <th>75%</th>\n",
       "      <td>40.729839</td>\n",
       "      <td>-77.036646</td>\n",
       "      <td>1.000000</td>\n",
       "      <td>3.208200</td>\n",
       "      <td>5.537000</td>\n",
       "      <td>4.668500</td>\n",
       "      <td>6.884900</td>\n",
       "      <td>10.000000</td>\n",
       "      <td>3.000000</td>\n",
       "      <td>2.513161e+07</td>\n",
       "      <td>...</td>\n",
       "      <td>0.000000</td>\n",
       "      <td>1.000000</td>\n",
       "      <td>1.000000</td>\n",
       "      <td>1.000000</td>\n",
       "      <td>1.000000</td>\n",
       "      <td>1.000000</td>\n",
       "      <td>0.000000</td>\n",
       "      <td>0.000000</td>\n",
       "      <td>4.000000</td>\n",
       "      <td>1.000000</td>\n",
       "    </tr>\n",
       "    <tr>\n",
       "      <th>max</th>\n",
       "      <td>54.983201</td>\n",
       "      <td>-1.574631</td>\n",
       "      <td>1.000000</td>\n",
       "      <td>21.895900</td>\n",
       "      <td>21.895900</td>\n",
       "      <td>24.684900</td>\n",
       "      <td>24.684900</td>\n",
       "      <td>63.000000</td>\n",
       "      <td>8.000000</td>\n",
       "      <td>5.100000e+08</td>\n",
       "      <td>...</td>\n",
       "      <td>1.000000</td>\n",
       "      <td>1.000000</td>\n",
       "      <td>1.000000</td>\n",
       "      <td>1.000000</td>\n",
       "      <td>1.000000</td>\n",
       "      <td>1.000000</td>\n",
       "      <td>1.000000</td>\n",
       "      <td>1.000000</td>\n",
       "      <td>16.000000</td>\n",
       "      <td>1.000000</td>\n",
       "    </tr>\n",
       "  </tbody>\n",
       "</table>\n",
       "<p>8 rows × 34 columns</p>\n",
       "</div>"
      ],
      "text/plain": [
       "         latitude   longitude      labels  age_first_funding_year  \\\n",
       "count  553.000000  553.000000  553.000000              553.000000   \n",
       "mean    38.524450 -103.712659    0.647378                2.154983   \n",
       "std      3.607388   22.742867    0.478219                2.463427   \n",
       "min     26.052461 -122.725662    0.000000               -9.046600   \n",
       "25%     37.386778 -122.192337    0.000000                0.586300   \n",
       "50%     37.777741 -118.487549    1.000000                1.441100   \n",
       "75%     40.729839  -77.036646    1.000000                3.208200   \n",
       "max     54.983201   -1.574631    1.000000               21.895900   \n",
       "\n",
       "       age_last_funding_year  age_first_milestone_year  \\\n",
       "count             553.000000                464.000000   \n",
       "mean                3.938036                  3.059642   \n",
       "std                 2.933488                  3.135400   \n",
       "min                -9.046600                -14.169900   \n",
       "25%                 1.882200                  1.000000   \n",
       "50%                 3.580800                  2.510950   \n",
       "75%                 5.537000                  4.668500   \n",
       "max                21.895900                 24.684900   \n",
       "\n",
       "       age_last_milestone_year  relationships  funding_rounds  \\\n",
       "count               464.000000     553.000000      553.000000   \n",
       "mean                  4.918637       8.005425        2.339964   \n",
       "std                   3.351682       7.543951        1.337913   \n",
       "min                  -3.882200       0.000000        1.000000   \n",
       "25%                   2.502725       3.000000        1.000000   \n",
       "50%                   4.627400       6.000000        2.000000   \n",
       "75%                   6.884900      10.000000        3.000000   \n",
       "max                  24.684900      63.000000        8.000000   \n",
       "\n",
       "       funding_total_usd  ...  is_consulting  is_othercategory      has_VC  \\\n",
       "count       5.530000e+02  ...     553.000000        553.000000  553.000000   \n",
       "mean        2.106776e+07  ...       0.003617          0.307414    0.325497   \n",
       "std         3.623331e+07  ...       0.060084          0.461840    0.468985   \n",
       "min         1.100000e+04  ...       0.000000          0.000000    0.000000   \n",
       "25%         3.100000e+06  ...       0.000000          0.000000    0.000000   \n",
       "50%         1.050000e+07  ...       0.000000          0.000000    0.000000   \n",
       "75%         2.513161e+07  ...       0.000000          1.000000    1.000000   \n",
       "max         5.100000e+08  ...       1.000000          1.000000    1.000000   \n",
       "\n",
       "        has_angel  has_roundA  has_roundB  has_roundC  has_roundD  \\\n",
       "count  553.000000  553.000000  553.000000  553.000000  553.000000   \n",
       "mean     0.251356    0.529837    0.424955    0.236890    0.084991   \n",
       "std      0.434186    0.499561    0.494784    0.425559    0.279121   \n",
       "min      0.000000    0.000000    0.000000    0.000000    0.000000   \n",
       "25%      0.000000    0.000000    0.000000    0.000000    0.000000   \n",
       "50%      0.000000    1.000000    0.000000    0.000000    0.000000   \n",
       "75%      1.000000    1.000000    1.000000    0.000000    0.000000   \n",
       "max      1.000000    1.000000    1.000000    1.000000    1.000000   \n",
       "\n",
       "       avg_participants   is_top500  \n",
       "count        553.000000  553.000000  \n",
       "mean           2.861091    0.804702  \n",
       "std            1.930696    0.396789  \n",
       "min            1.000000    0.000000  \n",
       "25%            1.500000    1.000000  \n",
       "50%            2.333300    1.000000  \n",
       "75%            4.000000    1.000000  \n",
       "max           16.000000    1.000000  \n",
       "\n",
       "[8 rows x 34 columns]"
      ]
     },
     "execution_count": 6,
     "metadata": {},
     "output_type": "execute_result"
    }
   ],
   "source": [
    "train_set.describe()"
   ]
  },
  {
   "cell_type": "code",
   "execution_count": 7,
   "id": "316ea359",
   "metadata": {
    "execution": {
     "iopub.execute_input": "2025-04-25T17:46:10.530855Z",
     "iopub.status.busy": "2025-04-25T17:46:10.530528Z",
     "iopub.status.idle": "2025-04-25T17:46:10.569432Z",
     "shell.execute_reply": "2025-04-25T17:46:10.568336Z"
    },
    "papermill": {
     "duration": 0.04627,
     "end_time": "2025-04-25T17:46:10.571127",
     "exception": false,
     "start_time": "2025-04-25T17:46:10.524857",
     "status": "completed"
    },
    "tags": []
   },
   "outputs": [
    {
     "name": "stdout",
     "output_type": "stream",
     "text": [
      "Categorical features:  Index(['state_code', 'zip_code', 'id', 'city', 'name', 'founded_at',\n",
      "       'closed_at', 'first_funding_at', 'last_funding_at', 'state_code.1',\n",
      "       'category_code', 'object_id', 'status'],\n",
      "      dtype='object')\n",
      "Numerical features:  Index(['latitude', 'longitude', 'age_first_funding_year',\n",
      "       'age_last_funding_year', 'age_first_milestone_year',\n",
      "       'age_last_milestone_year', 'relationships', 'funding_rounds',\n",
      "       'funding_total_usd', 'milestones', 'is_CA', 'is_NY', 'is_MA', 'is_TX',\n",
      "       'is_otherstate', 'is_software', 'is_web', 'is_mobile', 'is_enterprise',\n",
      "       'is_advertising', 'is_gamesvideo', 'is_ecommerce', 'is_biotech',\n",
      "       'is_consulting', 'is_othercategory', 'has_VC', 'has_angel',\n",
      "       'has_roundA', 'has_roundB', 'has_roundC', 'has_roundD',\n",
      "       'avg_participants', 'is_top500'],\n",
      "      dtype='object')\n",
      "High skew features: ['is_consulting', 'funding_total_usd', 'is_ecommerce', 'is_TX', 'is_biotech', 'is_gamesvideo', 'is_advertising', 'is_enterprise', 'has_roundD', 'is_mobile', 'is_MA', 'is_NY', 'relationships', 'age_first_funding_year', 'avg_participants', 'is_web', 'is_software', 'is_otherstate', 'has_roundC', 'has_angel', 'funding_rounds', 'age_first_milestone_year', 'age_last_funding_year', 'age_last_milestone_year', 'longitude', 'is_othercategory']\n"
     ]
    }
   ],
   "source": [
    "categorical_cols = X_train.select_dtypes(include='object').columns\n",
    "numeric_cols = X_train.select_dtypes(include=np.number).columns\n",
    "\n",
    "print(\"Categorical features: \", categorical_cols)\n",
    "print(\"Numerical features: \", numeric_cols)\n",
    "\n",
    "from scipy.stats import skew\n",
    "numeric_cols = X_train.select_dtypes(include=np.number).columns\n",
    "skewed_feats = X_train[numeric_cols].apply(lambda x: skew(x.dropna())).sort_values(ascending=False)\n",
    "skewed_features = skewed_feats[skewed_feats > 0.8].index.tolist()\n",
    "skewed_features = [col for col in skewed_features if col in X_train.columns]\n",
    "\n",
    "print(\"High skew features:\", skewed_features)"
   ]
  },
  {
   "cell_type": "markdown",
   "id": "c58094ab",
   "metadata": {
    "papermill": {
     "duration": 0.004204,
     "end_time": "2025-04-25T17:46:10.580229",
     "exception": false,
     "start_time": "2025-04-25T17:46:10.576025",
     "status": "completed"
    },
    "tags": []
   },
   "source": [
    "## **2) Create a pipeline for a better preprocessing**"
   ]
  },
  {
   "cell_type": "code",
   "execution_count": 8,
   "id": "44da130b",
   "metadata": {
    "execution": {
     "iopub.execute_input": "2025-04-25T17:46:10.590478Z",
     "iopub.status.busy": "2025-04-25T17:46:10.590154Z",
     "iopub.status.idle": "2025-04-25T17:46:10.882540Z",
     "shell.execute_reply": "2025-04-25T17:46:10.881577Z"
    },
    "papermill": {
     "duration": 0.299517,
     "end_time": "2025-04-25T17:46:10.884197",
     "exception": false,
     "start_time": "2025-04-25T17:46:10.584680",
     "status": "completed"
    },
    "tags": []
   },
   "outputs": [],
   "source": [
    "import numpy as np\n",
    "import pandas as pd\n",
    "from sklearn.pipeline import Pipeline, make_pipeline\n",
    "from sklearn.compose import ColumnTransformer, make_column_selector\n",
    "from sklearn.preprocessing import OneHotEncoder, StandardScaler, FunctionTransformer\n",
    "from sklearn.impute import SimpleImputer\n",
    "\n",
    "log_transformer = make_pipeline(                      \n",
    "    SimpleImputer(strategy=\"median\"),\n",
    "    FunctionTransformer(lambda x: np.log1p(np.clip(x, a_min=0, a_max=None)), feature_names_out=\"one-to-one\"),\n",
    "    StandardScaler()\n",
    ")\n",
    "\n",
    "numeric_transformer = make_pipeline(              \n",
    "    SimpleImputer(strategy=\"median\"),\n",
    "    StandardScaler()\n",
    ")\n",
    "\n",
    "categorical_transformer = make_pipeline(                       \n",
    "    SimpleImputer(strategy=\"most_frequent\"),\n",
    "    OneHotEncoder(handle_unknown=\"ignore\")\n",
    ")\n",
    "\n",
    "\n",
    "preprocessor = ColumnTransformer([                       \n",
    "    \n",
    "    (\"log\", log_transformer, skewed_features),\n",
    "    \n",
    "    (\"num\", numeric_transformer, numeric_cols),\n",
    "\n",
    "    (\"cat\", categorical_transformer, categorical_cols),\n",
    "])\n"
   ]
  },
  {
   "cell_type": "markdown",
   "id": "71287433",
   "metadata": {
    "papermill": {
     "duration": 0.004211,
     "end_time": "2025-04-25T17:46:10.893227",
     "exception": false,
     "start_time": "2025-04-25T17:46:10.889016",
     "status": "completed"
    },
    "tags": []
   },
   "source": [
    "## **3) Train a Random Forest Classifier**"
   ]
  },
  {
   "cell_type": "code",
   "execution_count": 9,
   "id": "cd3f5b19",
   "metadata": {
    "execution": {
     "iopub.execute_input": "2025-04-25T17:46:10.903760Z",
     "iopub.status.busy": "2025-04-25T17:46:10.902771Z",
     "iopub.status.idle": "2025-04-25T17:46:11.083893Z",
     "shell.execute_reply": "2025-04-25T17:46:11.082934Z"
    },
    "papermill": {
     "duration": 0.188145,
     "end_time": "2025-04-25T17:46:11.085681",
     "exception": false,
     "start_time": "2025-04-25T17:46:10.897536",
     "status": "completed"
    },
    "tags": []
   },
   "outputs": [],
   "source": [
    "from sklearn.ensemble import RandomForestClassifier\n",
    "from sklearn.model_selection import cross_val_predict\n",
    "from sklearn.metrics import confusion_matrix, precision_score, recall_score\n",
    "\n",
    "# Random Forest pipeline\n",
    "rf_clf = Pipeline([\n",
    "    (\"preprocessor\", preprocessor),\n",
    "    (\"rf\", RandomForestClassifier(random_state=42, class_weight='balanced'))\n",
    "])"
   ]
  },
  {
   "cell_type": "code",
   "execution_count": 10,
   "id": "ce815ecf",
   "metadata": {
    "execution": {
     "iopub.execute_input": "2025-04-25T17:46:11.096718Z",
     "iopub.status.busy": "2025-04-25T17:46:11.096375Z",
     "iopub.status.idle": "2025-04-25T17:46:12.250223Z",
     "shell.execute_reply": "2025-04-25T17:46:12.248808Z"
    },
    "papermill": {
     "duration": 1.161624,
     "end_time": "2025-04-25T17:46:12.252241",
     "exception": false,
     "start_time": "2025-04-25T17:46:11.090617",
     "status": "completed"
    },
    "tags": []
   },
   "outputs": [
    {
     "name": "stdout",
     "output_type": "stream",
     "text": [
      "Confusion Matrix (Train - Random Forest):\n",
      " [[195   0]\n",
      " [  0 358]]\n",
      "Train Precision (RF): 1.0\n",
      "Train Recall (RF): 1.0\n",
      "Confusion Matrix (Validation - Random Forest):\n",
      " [[ 66   0]\n",
      " [  0 119]]\n",
      "Validation Precision (RF): 1.0\n",
      "Validation Recall (RF): 1.0\n"
     ]
    }
   ],
   "source": [
    "# Training performance\n",
    "y_train_pred_rf = cross_val_predict(rf_clf, X_train, y_train, cv=3)\n",
    "print(\"Confusion Matrix (Train - Random Forest):\\n\", confusion_matrix(y_train, y_train_pred_rf))\n",
    "print(\"Train Precision (RF):\", precision_score(y_train, y_train_pred_rf))\n",
    "print(\"Train Recall (RF):\", recall_score(y_train, y_train_pred_rf))\n",
    "\n",
    "# Fit and evaluate on the validation test\n",
    "rf_clf.fit(X_train, y_train)\n",
    "y_val_pred_rf = rf_clf.predict(X_val)\n",
    "print(\"Confusion Matrix (Validation - Random Forest):\\n\", confusion_matrix(y_val, y_val_pred_rf))\n",
    "print(\"Validation Precision (RF):\", precision_score(y_val, y_val_pred_rf))\n",
    "print(\"Validation Recall (RF):\", recall_score(y_val, y_val_pred_rf))\n"
   ]
  },
  {
   "cell_type": "code",
   "execution_count": 11,
   "id": "6750e85b",
   "metadata": {
    "execution": {
     "iopub.execute_input": "2025-04-25T17:46:12.263498Z",
     "iopub.status.busy": "2025-04-25T17:46:12.263189Z",
     "iopub.status.idle": "2025-04-25T17:46:12.549074Z",
     "shell.execute_reply": "2025-04-25T17:46:12.548078Z"
    },
    "papermill": {
     "duration": 0.29336,
     "end_time": "2025-04-25T17:46:12.550658",
     "exception": false,
     "start_time": "2025-04-25T17:46:12.257298",
     "status": "completed"
    },
    "tags": []
   },
   "outputs": [
    {
     "data": {
      "image/png": "[encoded data removed]",
      "text/plain": [
       "<Figure size 600x500 with 1 Axes>"
      ]
     },
     "metadata": {},
     "output_type": "display_data"
    }
   ],
   "source": [
    "#Analyze the ROC curve\n",
    "import matplotlib.pyplot as plt\n",
    "import matplotlib.patches as patches\n",
    "from sklearn.metrics import roc_curve, auc\n",
    "\n",
    "y_val_prob_rf2 = rf_clf.predict_proba(X_val)[:, 1]\n",
    "\n",
    "# Calcola la curva ROC\n",
    "fpr, tpr, thresholds = roc_curve(y_val, y_val_prob_rf2)\n",
    "roc_auc = auc(fpr, tpr)\n",
    "\n",
    "plt.figure(figsize=(6, 5))\n",
    "plt.plot(fpr, tpr, linewidth=2, label=f\"ROC curve RandomForestClassifier (AUC = {roc_auc:.2f})\")\n",
    "\n",
    "plt.xlabel('False Positive Rate (Fall-Out)')\n",
    "plt.ylabel('True Positive Rate (Recall)')\n",
    "plt.title('ROC curve for RandomForestClassifier')\n",
    "plt.grid()\n",
    "plt.axis([0, 1, 0, 1])\n",
    "plt.legend(loc=\"lower right\", fontsize=10)\n",
    "plt.show()\n"
   ]
  },
  {
   "cell_type": "code",
   "execution_count": 12,
   "id": "343b764d",
   "metadata": {
    "execution": {
     "iopub.execute_input": "2025-04-25T17:46:12.563925Z",
     "iopub.status.busy": "2025-04-25T17:46:12.563238Z",
     "iopub.status.idle": "2025-04-25T17:46:13.632486Z",
     "shell.execute_reply": "2025-04-25T17:46:13.631302Z"
    },
    "papermill": {
     "duration": 1.077589,
     "end_time": "2025-04-25T17:46:13.634499",
     "exception": false,
     "start_time": "2025-04-25T17:46:12.556910",
     "status": "completed"
    },
    "tags": []
   },
   "outputs": [
    {
     "data": {
      "image/png": "[encoded data removed]",
      "text/plain": [
       "<Figure size 1000x800 with 2 Axes>"
      ]
     },
     "metadata": {},
     "output_type": "display_data"
    }
   ],
   "source": [
    "#Correlation with the target\n",
    "import seaborn as sns\n",
    "import matplotlib.pyplot as plt\n",
    "\n",
    "corr = data.corr(numeric_only=True)\n",
    "plt.figure(figsize=(10, 8))\n",
    "sns.heatmap(corr[['labels']].sort_values(by='labels', ascending=False), annot=True, cmap='coolwarm')\n",
    "plt.title(\"Correlazione tra feature e target\")\n",
    "plt.show()\n"
   ]
  },
  {
   "cell_type": "code",
   "execution_count": 13,
   "id": "27508bb9",
   "metadata": {
    "execution": {
     "iopub.execute_input": "2025-04-25T17:46:13.651695Z",
     "iopub.status.busy": "2025-04-25T17:46:13.650792Z",
     "iopub.status.idle": "2025-04-25T17:46:13.687527Z",
     "shell.execute_reply": "2025-04-25T17:46:13.686602Z"
    },
    "papermill": {
     "duration": 0.046381,
     "end_time": "2025-04-25T17:46:13.689040",
     "exception": false,
     "start_time": "2025-04-25T17:46:13.642659",
     "status": "completed"
    },
    "tags": []
   },
   "outputs": [
    {
     "name": "stdout",
     "output_type": "stream",
     "text": [
      "match\n",
      "True    1.0\n",
      "Name: proportion, dtype: float64\n"
     ]
    }
   ],
   "source": [
    "#Compare predictions vs targets in the validation set\n",
    "test_preds = pd.DataFrame({\n",
    "    'y_true': y_test,\n",
    "    'y_pred': rf_clf.predict(X_test)\n",
    "})\n",
    "test_preds['match'] = test_preds['y_true'] == test_preds['y_pred']\n",
    "print(test_preds['match'].value_counts(normalize=True))"
   ]
  },
  {
   "cell_type": "code",
   "execution_count": 14,
   "id": "66d275fc",
   "metadata": {
    "execution": {
     "iopub.execute_input": "2025-04-25T17:46:13.704346Z",
     "iopub.status.busy": "2025-04-25T17:46:13.704021Z",
     "iopub.status.idle": "2025-04-25T17:46:13.768410Z",
     "shell.execute_reply": "2025-04-25T17:46:13.767277Z"
    },
    "papermill": {
     "duration": 0.07397,
     "end_time": "2025-04-25T17:46:13.770075",
     "exception": false,
     "start_time": "2025-04-25T17:46:13.696105",
     "status": "completed"
    },
    "tags": []
   },
   "outputs": [
    {
     "name": "stdout",
     "output_type": "stream",
     "text": [
      "Test Set Evaluation Results:\n",
      "Accuracy: 1.0000\n",
      "Precision: 1.0000\n",
      "Recall: 1.0000\n",
      "F1 Score: 1.0000\n",
      "ROC AUC: 1.0000\n"
     ]
    }
   ],
   "source": [
    "# Predict on the test set\n",
    "y_test_pred_rf = rf_clf.predict(X_test)\n",
    "\n",
    "from sklearn.metrics import accuracy_score, precision_score, recall_score, f1_score, roc_auc_score\n",
    "\n",
    "accuracy = accuracy_score(y_test, y_test_pred_rf)\n",
    "precision = precision_score(y_test, y_test_pred_rf)\n",
    "recall = recall_score(y_test, y_test_pred_rf)\n",
    "f1 = f1_score(y_test, y_test_pred_rf)\n",
    "roc_auc = roc_auc_score(y_test, rf_clf.predict_proba(X_test)[:, 1])\n",
    "\n",
    "print(\"Test Set Evaluation Results:\")\n",
    "print(f\"Accuracy: {accuracy:.4f}\")\n",
    "print(f\"Precision: {precision:.4f}\")\n",
    "print(f\"Recall: {recall:.4f}\")\n",
    "print(f\"F1 Score: {f1:.4f}\")\n",
    "print(f\"ROC AUC: {roc_auc:.4f}\")"
   ]
  }
 ],
 "metadata": {
  "kaggle": {
   "accelerator": "none",
   "dataSources": [
    {
     "datasetId": 876947,
     "sourceId": 1493491,
     "sourceType": "datasetVersion"
    }
   ],
   "dockerImageVersionId": 31012,
   "isGpuEnabled": false,
   "isInternetEnabled": true,
   "language": "python",
   "sourceType": "notebook"
  },
  "kernelspec": {
   "display_name": "Python 3",
   "language": "python",
   "name": "python3"
  },
  "language_info": {
   "codemirror_mode": {
    "name": "ipython",
    "version": 3
   },
   "file_extension": ".py",
   "mimetype": "text/x-python",
   "name": "python",
   "nbconvert_exporter": "python",
   "pygments_lexer": "ipython3",
   "version": "3.11.11"
  },
  "papermill": {
   "default_parameters": {},
   "duration": 32.238237,
   "end_time": "2025-04-25T17:46:16.594481",
   "environment_variables": {},
   "exception": null,
   "input_path": "__notebook__.ipynb",
   "output_path": "__notebook__.ipynb",
   "parameters": {},
   "start_time": "2025-04-25T17:45:44.356244",
   "version": "2.6.0"
  }
 },
 "nbformat": 4,
 "nbformat_minor": 5
}
